{
 "cells": [
  {
   "cell_type": "markdown",
   "id": "02dbd35c-c05b-4e74-9cb5-a3fc2a0e5351",
   "metadata": {},
   "source": [
    "### Start SparkSession"
   ]
  },
  {
   "cell_type": "code",
   "execution_count": 1,
   "id": "9fcf1a3f-7641-4f37-9935-eb1cd80bf098",
   "metadata": {},
   "outputs": [
    {
     "name": "stderr",
     "output_type": "stream",
     "text": [
      "25/02/17 23:29:23 WARN Utils: Your hostname, Evgeniis-MacBook-Pro.local resolves to a loopback address: 127.0.0.1; using 192.168.50.57 instead (on interface en0)\n",
      "25/02/17 23:29:23 WARN Utils: Set SPARK_LOCAL_IP if you need to bind to another address\n",
      "Setting default log level to \"WARN\".\n",
      "To adjust logging level use sc.setLogLevel(newLevel). For SparkR, use setLogLevel(newLevel).\n",
      "25/02/17 23:29:24 WARN NativeCodeLoader: Unable to load native-hadoop library for your platform... using builtin-java classes where applicable\n"
     ]
    },
    {
     "name": "stdout",
     "output_type": "stream",
     "text": [
      "Активные Spark сессии: http://192.168.50.57:4040\n"
     ]
    }
   ],
   "source": [
    "from pyspark.sql import SparkSession\n",
    "import pyspark.sql.functions as F\n",
    "\n",
    "\n",
    "spark = SparkSession \\\n",
    "            .builder \\\n",
    "            .appName(\"halltape_pyspark_local\") \\\n",
    "    .getOrCreate()\n",
    "\n",
    "\n",
    "print(\"Активные Spark сессии:\", spark.sparkContext.uiWebUrl)"
   ]
  },
  {
   "cell_type": "markdown",
   "id": "0f81f1bb-00ec-4840-8998-0d2056e81e26",
   "metadata": {},
   "source": [
    "### Read"
   ]
  },
  {
   "cell_type": "code",
   "execution_count": 4,
   "id": "2030acf5-9a3b-445b-87d3-9727ad4e3dfc",
   "metadata": {},
   "outputs": [],
   "source": [
    "PATH = '/Users/halltape/Desktop/CODE/datasets/df.csv'"
   ]
  },
  {
   "cell_type": "code",
   "execution_count": 5,
   "id": "4e72cd71",
   "metadata": {},
   "outputs": [
    {
     "name": "stderr",
     "output_type": "stream",
     "text": [
      "                                                                                \r"
     ]
    },
    {
     "name": "stdout",
     "output_type": "stream",
     "text": [
      "+--------------------+------------------+--------------------+--------------------+-------------+-------------+--------------------+--------------------+----------+---------------+--------------------+--------------+------------------+-------+--------------+-----------+-------------+----------+---------------+\n",
      "|                 _c0|               _c1|                 _c2|                 _c3|          _c4|          _c5|                 _c6|                 _c7|       _c8|            _c9|                _c10|          _c11|              _c12|   _c13|          _c14|       _c15|         _c16|      _c17|           _c18|\n",
      "+--------------------+------------------+--------------------+--------------------+-------------+-------------+--------------------+--------------------+----------+---------------+--------------------+--------------+------------------+-------+--------------+-----------+-------------+----------+---------------+\n",
      "|        _sa_cookie_a|     _fa_coookie_b|        _ym_cookie_c|                _fbp|      org_uid|     user_uid|          user_phone|           user_mail|event_type|   event_action|          data_value|    geocountry|              city|user_os|systemlanguage|geoattitude|meta_platform|screensize|timestampcolumn|\n",
      "|SA1.df93b707-35bf...|ads2.3790341239684|3c1df314-c86f-4e4...|fb.1.e7819c04-85a...|9220056613557|7233555250575| (863)305-4153x27366|melissadean@examp...|    SUBMIT|          event|b4060046a40bdbec5...|    Guadeloupe|        East Jaime|  Linux|            EN|  -8.258421|          WEB|  1280x720|     2003-07-15|\n",
      "|SA1.d2f33d79-4ac2...|ads2.7388689601885|d4aa3e0d-2bae-406...|fb.1.91f8ca44-222...|7146198580403|2168540051765|       (729)259-4103|lisagarcia@exampl...|  REGISTER|login-check-otp|                null| Faroe Islands|   East Rhondafurt|Windows|            RU|-84.4237505|       MOBAIL|  1280x720|     2002-02-25|\n",
      "|SA1.6d65ec5d-3942...|ads2.2295604917931|a296bf0b-916c-4cb...|fb.1.99f57bd2-894...|5386170600348|6278737488153|    001-631-712-1019|jramirez@example.net|    SUBMIT|          event|1b8778214b6fb9afb...|      Zimbabwe|     South Jasmine|    Mac|            RU| -39.327959|          WEB| 3480x1400|     2004-10-07|\n",
      "|SA1.8c3d8c08-4faf...|ads2.2592251607929|15d006a3-1d16-431...|fb.1.f8495ae3-452...|6890782947305|7395640996846|     +1-965-799-7006| krhodes@example.net|  REGISTER|login-check-otp|                null|       Iceland|      Kathleenberg|Windows|            EN| -22.888980|       MOBAIL|  1280x720|     2001-03-12|\n",
      "|SA1.ca355fe3-94d9...|ads2.8848662912394|518dfcf1-8e98-42e...|fb.1.fabce268-83e...|0443667682851|8409382142472|        818.683.3954|obrienamy@example...|SUBMIT_MD5|          event|052ccf63c9dad2794...|       Bolivia|       North Kayla|Windows|            RU| -73.537350|          WEB|  1280x720|     2007-06-26|\n",
      "|SA1.228ab1b9-6580...|ads2.5170157979031|590cdb1d-c328-46e...|fb.1.6298bc7e-04c...|0510505218588|2761212723864|001-980-296-1859x376|elijahlong@exampl...|    SUBMIT|       pageview|46fb1d3bd391fa124...|       Moldova|  East Audreyshire|Windows|            RU| -52.265629|          WEB| 3480x1400|     2018-06-09|\n",
      "|SA1.fc8db935-3c26...|ads2.5639299305414|79f09284-c6c4-480...|fb.1.4fbb2535-708...|2679578436566|9052601887418|  761-276-2287x70395|  mary16@example.com|SUBMIT_MD5|       pageview|1045678f458f50499...|Norfolk Island|North Richardhaven|    Mac|            EN| 24.0025185|          WEB| 3480x1400|     2007-02-25|\n",
      "|SA1.eec37e22-5d03...|ads2.9997856298627|b00a8b57-2b28-447...|fb.1.be578bea-f28...|5426309237252|5273906342955| (338)227-1521x38715|stephaniejones@ex...|  REGISTER|login-check-otp|                null|          Peru|         Peterfurt|Windows|            RU| 44.8280105|          WEB|  1280x720|     2015-11-03|\n",
      "|SA1.fcda1cb9-69f3...|ads2.9533110849140|30af0121-60bd-478...|fb.1.0d92a641-c5c...|6631745995377|5315928779600|          3946558476|  ryan80@example.org|SUBMIT_MD5|login-check-otp|eb8ae63e7c17d5e0c...|       Myanmar|         Youngside|Windows|            RU|  7.8376725|          WEB| 3480x1400|     2018-01-17|\n",
      "|SA1.c5da3a72-5b34...|ads2.4843901886002|4a32d779-03dc-43f...|fb.1.6cf17642-91f...|1349158996394|0407622872439|    052.372.8518x596|jamiemccullough@e...|SUBMIT_MD5|       pageview|9839271b44f61febd...|          Iraq|        Port David|Windows|            EN|  86.168445|          WEB| 1920x1080|     2008-02-23|\n",
      "|SA1.74f5b431-186f...|ads2.4210141524090|3e8d863f-5740-405...|fb.1.0e771acf-fc7...|8009981407305|2391033492908|          0907898907|  sgreen@example.net|SUBMIT_MD5|          event|8124b4f762c9d3522...|        Cyprus|North Aaronchester|  Linux|            EN| -13.591213|       MOBAIL| 1920x1080|     2001-01-13|\n",
      "|SA1.7db2f691-eee2...|ads2.7759746933641|c2719d57-85b8-4bf...|fb.1.50451878-a09...|6134393119551|8983546334655|   557.443.0135x0632|sabrina85@example...|SUBMIT_MD5|login-check-otp|a9f77a69f75a07913...|      Djibouti|     Sullivanmouth|    Mac|            RU| 63.9057455|          WEB| 1920x1080|     2009-10-02|\n",
      "|SA1.70343ebb-7c61...|ads2.3382752555154|bd5db809-85ab-401...|fb.1.0a14d8ae-2bb...|8282116662541|8514494058194|        017.104.6793|  ohicks@example.com|SUBMIT_MD5|login-check-otp|0b612bb8580901a4f...|        Poland|     Jenniferville|Windows|            EN| 81.6542615|       MOBAIL| 1920x1080|     2022-08-16|\n",
      "|SA1.cd2ff995-7f05...|ads2.1500370131545|0b301e2a-2e8b-4de...|fb.1.8f7d3e42-545...|6837292471012|8679293502353|        538-184-3991| wayne85@example.com|  REGISTER|login-check-otp|                null|         Haiti|     Joshuaborough|Windows|            EN|  31.159084|       MOBAIL|  1280x720|     2010-02-15|\n",
      "|SA1.866de707-aa41...|ads2.9503661875377|9683522e-7358-4ac...|fb.1.9def6eb1-7ce...|1826755425852|5213285116883|   (666)982-4465x473| dgarcia@example.org|  REGISTER|login-check-otp|                null|   New Zealand|       Gregoryland|  Linux|            EN| 77.4117245|          WEB| 3480x1400|     2010-11-19|\n",
      "|SA1.60a47d29-f949...|ads2.0641265995593|196c3648-06ca-47d...|fb.1.f0da4de4-d35...|1581959186860|6880761949573|   963-440-7459x3841|katelynpatel@exam...|    SUBMIT|       pageview|a97b4103c532c65fd...|   Timor-Leste|   Lake Josephstad|    Mac|            EN| -38.460335|       MOBAIL| 1920x1080|     2018-06-20|\n",
      "|SA1.33e6459c-b3d5...|ads2.9993694935713|3605f39a-6ca7-47f...|fb.1.6c0ad24a-175...|4088820488462|1000020634066| +1-203-664-8584x920|  zlopez@example.org|  REGISTER|          event|                null|Western Sahara|      Danielleview|Windows|            EN| -17.496943|          WEB| 1920x1080|     2020-11-01|\n",
      "|SA1.34c09b0c-32aa...|ads2.2705778328565|4ea288ba-593c-409...|fb.1.108ea8a9-0b3...|7875795078517|8100383288573|  742-903-2553x16037|isabel82@example.com|  REGISTER|          event|                null|          Oman|         Parkshire|  Linux|            RU| -18.488901|          WEB| 1920x1080|     2020-01-10|\n",
      "|SA1.620ec4af-0831...|ads2.2970161946177|bb5a04d3-2b1a-4b3...|fb.1.713f3793-723...|8788125403327|7372122222933|+1-340-615-8227x0681| jason34@example.org|  REGISTER|          event|                null|       Romania|       West Donald|Windows|            EN|  2.7783055|       MOBAIL|  1280x720|     2011-03-10|\n",
      "+--------------------+------------------+--------------------+--------------------+-------------+-------------+--------------------+--------------------+----------+---------------+--------------------+--------------+------------------+-------+--------------+-----------+-------------+----------+---------------+\n",
      "only showing top 20 rows\n",
      "\n"
     ]
    }
   ],
   "source": [
    "spark.read.csv(PATH).show()"
   ]
  },
  {
   "cell_type": "code",
   "execution_count": null,
   "id": "36f9c125",
   "metadata": {},
   "outputs": [],
   "source": []
  },
  {
   "cell_type": "code",
   "execution_count": null,
   "id": "d42133e9",
   "metadata": {},
   "outputs": [],
   "source": []
  },
  {
   "cell_type": "code",
   "execution_count": null,
   "id": "963647e3",
   "metadata": {},
   "outputs": [],
   "source": []
  },
  {
   "cell_type": "code",
   "execution_count": null,
   "id": "0c058c18",
   "metadata": {},
   "outputs": [],
   "source": []
  },
  {
   "cell_type": "code",
   "execution_count": null,
   "id": "fa242ea3",
   "metadata": {},
   "outputs": [],
   "source": []
  },
  {
   "cell_type": "code",
   "execution_count": 7,
   "id": "83700e6c",
   "metadata": {},
   "outputs": [
    {
     "name": "stdout",
     "output_type": "stream",
     "text": [
      "+--------------------+------------------+--------------------+--------------------+-------------+-------------+-------------------+--------------------+----------+---------------+--------------------+-------------+---------------+-------+--------------+-----------+-------------+----------+---------------+\n",
      "|        _sa_cookie_a|     _fa_coookie_b|        _ym_cookie_c|                _fbp|      org_uid|     user_uid|         user_phone|           user_mail|event_type|   event_action|          data_value|   geocountry|           city|user_os|systemlanguage|geoattitude|meta_platform|screensize|timestampcolumn|\n",
      "+--------------------+------------------+--------------------+--------------------+-------------+-------------+-------------------+--------------------+----------+---------------+--------------------+-------------+---------------+-------+--------------+-----------+-------------+----------+---------------+\n",
      "|SA1.df93b707-35bf...|ads2.3790341239684|3c1df314-c86f-4e4...|fb.1.e7819c04-85a...|9220056613557|7233555250575|(863)305-4153x27366|melissadean@examp...|    SUBMIT|          event|b4060046a40bdbec5...|   Guadeloupe|     East Jaime|  Linux|            EN|  -8.258421|          WEB|  1280x720|     2003-07-15|\n",
      "|SA1.d2f33d79-4ac2...|ads2.7388689601885|d4aa3e0d-2bae-406...|fb.1.91f8ca44-222...|7146198580403|2168540051765|      (729)259-4103|lisagarcia@exampl...|  REGISTER|login-check-otp|                null|Faroe Islands|East Rhondafurt|Windows|            RU|-84.4237505|       MOBAIL|  1280x720|     2002-02-25|\n",
      "|SA1.6d65ec5d-3942...|ads2.2295604917931|a296bf0b-916c-4cb...|fb.1.99f57bd2-894...|5386170600348|6278737488153|   001-631-712-1019|jramirez@example.net|    SUBMIT|          event|1b8778214b6fb9afb...|     Zimbabwe|  South Jasmine|    Mac|            RU| -39.327959|          WEB| 3480x1400|     2004-10-07|\n",
      "|SA1.8c3d8c08-4faf...|ads2.2592251607929|15d006a3-1d16-431...|fb.1.f8495ae3-452...|6890782947305|7395640996846|    +1-965-799-7006| krhodes@example.net|  REGISTER|login-check-otp|                null|      Iceland|   Kathleenberg|Windows|            EN| -22.888980|       MOBAIL|  1280x720|     2001-03-12|\n",
      "|SA1.ca355fe3-94d9...|ads2.8848662912394|518dfcf1-8e98-42e...|fb.1.fabce268-83e...|0443667682851|8409382142472|       818.683.3954|obrienamy@example...|SUBMIT_MD5|          event|052ccf63c9dad2794...|      Bolivia|    North Kayla|Windows|            RU| -73.537350|          WEB|  1280x720|     2007-06-26|\n",
      "+--------------------+------------------+--------------------+--------------------+-------------+-------------+-------------------+--------------------+----------+---------------+--------------------+-------------+---------------+-------+--------------+-----------+-------------+----------+---------------+\n",
      "only showing top 5 rows\n",
      "\n"
     ]
    }
   ],
   "source": [
    "spark.read.csv(PATH, sep=',', header=True).show(5)"
   ]
  },
  {
   "cell_type": "code",
   "execution_count": 18,
   "id": "9c9440ab",
   "metadata": {},
   "outputs": [],
   "source": [
    "df = spark.read.csv(PATH, sep=',', header=True)\n"
   ]
  },
  {
   "cell_type": "code",
   "execution_count": 19,
   "id": "14377e45",
   "metadata": {},
   "outputs": [
    {
     "name": "stdout",
     "output_type": "stream",
     "text": [
      "root\n",
      " |-- _sa_cookie_a: string (nullable = true)\n",
      " |-- _fa_coookie_b: string (nullable = true)\n",
      " |-- _ym_cookie_c: string (nullable = true)\n",
      " |-- _fbp: string (nullable = true)\n",
      " |-- org_uid: string (nullable = true)\n",
      " |-- user_uid: string (nullable = true)\n",
      " |-- user_phone: string (nullable = true)\n",
      " |-- user_mail: string (nullable = true)\n",
      " |-- event_type: string (nullable = true)\n",
      " |-- event_action: string (nullable = true)\n",
      " |-- data_value: string (nullable = true)\n",
      " |-- geocountry: string (nullable = true)\n",
      " |-- city: string (nullable = true)\n",
      " |-- user_os: string (nullable = true)\n",
      " |-- systemlanguage: string (nullable = true)\n",
      " |-- geoattitude: string (nullable = true)\n",
      " |-- meta_platform: string (nullable = true)\n",
      " |-- screensize: string (nullable = true)\n",
      " |-- timestampcolumn: string (nullable = true)\n",
      "\n"
     ]
    }
   ],
   "source": [
    "df.printSchema()"
   ]
  },
  {
   "cell_type": "code",
   "execution_count": 23,
   "id": "90aa1039",
   "metadata": {},
   "outputs": [
    {
     "name": "stdout",
     "output_type": "stream",
     "text": [
      "root\n",
      " |-- systemlanguage: string (nullable = true)\n",
      " |-- geoattitude: string (nullable = true)\n",
      " |-- timestampcolumn: date (nullable = true)\n",
      "\n"
     ]
    }
   ],
   "source": [
    "df2 = df.select('systemlanguage', 'geoattitude', 'timestampcolumn')\n",
    "\n",
    "\n",
    "df2.withColumn('timestampcolumn', F.col('timestampcolumn').cast('date')).printSchema()"
   ]
  },
  {
   "cell_type": "markdown",
   "id": "c1caf03e-fc30-4bc3-ac05-19fbc6336538",
   "metadata": {},
   "source": [
    "### PrintSchema"
   ]
  },
  {
   "cell_type": "code",
   "execution_count": 39,
   "id": "21a90f1c",
   "metadata": {},
   "outputs": [],
   "source": [
    "df.printSchema()"
   ]
  },
  {
   "cell_type": "code",
   "execution_count": 40,
   "id": "ccf633ef-415f-417d-b3b8-fb56b5109029",
   "metadata": {},
   "outputs": [],
   "source": [
    "result = df\\\n",
    "            .withColumnRenamed(\"direction_eng\", \"direction\")\\\n",
    "            .withColumnRenamed(\"measure_eng\", \"measure\")\n",
    "\n",
    "result.columns"
   ]
  },
  {
   "cell_type": "markdown",
   "id": "8464d803",
   "metadata": {},
   "source": [
    "### Select"
   ]
  },
  {
   "cell_type": "code",
   "execution_count": 41,
   "id": "c67966ef-90cd-42d4-a260-236b60220312",
   "metadata": {},
   "outputs": [],
   "source": [
    "result.select('country').distinct().show(10, truncate=False)"
   ]
  },
  {
   "cell_type": "markdown",
   "id": "799d080a-b5e8-45cb-aec0-8e03eb5e5bb7",
   "metadata": {},
   "source": [
    "### GroupBy"
   ]
  },
  {
   "cell_type": "code",
   "execution_count": 42,
   "id": "8d94e8c7-41df-4a64-a0db-e302111f05d6",
   "metadata": {},
   "outputs": [],
   "source": [
    "result\\\n",
    "    .groupBy('country')\\\n",
    "    .agg(F.count('*').alias('total_rows'))\\\n",
    "    .orderBy(F.col('total_rows').desc())\\\n",
    "    .show()"
   ]
  },
  {
   "cell_type": "markdown",
   "id": "2f564628-8bf3-45cb-95f2-6f80ed4cec6a",
   "metadata": {},
   "source": [
    "### Filter"
   ]
  },
  {
   "cell_type": "code",
   "execution_count": 43,
   "id": "6cd2a20f-8af3-439a-a487-6c7d3fbcc64f",
   "metadata": {},
   "outputs": [],
   "source": [
    "# Два варианта написании фильтрации\n",
    "df_de = result\\\n",
    "            .where(F.col('country') == 'DE')\\\n",
    "            .where(F.col('value').isNotNull())\n",
    "\n",
    "df_de2 = result\\\n",
    "            .where(''' country == \"DE\" ''')\\\n",
    "            .where(''' value IS NOT NULL ''')\n",
    "\n",
    "print(df_de.count() == df_de2.count())"
   ]
  },
  {
   "cell_type": "markdown",
   "id": "230b564c-86f8-4633-a5ff-5cf8da7b6eea",
   "metadata": {},
   "source": [
    "### Save to CSV"
   ]
  },
  {
   "cell_type": "code",
   "execution_count": 44,
   "id": "f7058846-f7b2-4a9e-9388-3a5a9ed26bba",
   "metadata": {},
   "outputs": [],
   "source": [
    "df_de.show(2, truncate=False)"
   ]
  },
  {
   "cell_type": "code",
   "execution_count": 45,
   "id": "945d5e8c-c146-4221-9a29-9279d6911de8",
   "metadata": {},
   "outputs": [],
   "source": [
    "df_de.columns"
   ]
  },
  {
   "cell_type": "code",
   "execution_count": 46,
   "id": "d62869a2-9781-428d-9292-6775b5bd5b5e",
   "metadata": {},
   "outputs": [],
   "source": [
    "final = df_de\\\n",
    "            .select('month',\n",
    "                    'country',\n",
    "                    'code',\n",
    "                    'value',\n",
    "                    'netto',\n",
    "                    'quantity',\n",
    "                    'region',\n",
    "                    'district',\n",
    "                    'direction',\n",
    "                    'measure',\n",
    "                    F.col('load_date').cast('date'))\n",
    "\n",
    "final.show(2, truncate=False)"
   ]
  },
  {
   "cell_type": "code",
   "execution_count": 47,
   "id": "8eff1058-85c4-4f3a-ad43-b3e69f41abab",
   "metadata": {},
   "outputs": [],
   "source": [
    "# Сохранение неконтроллируемое по кол-ву файлов\n",
    "final\\\n",
    "    .write\\\n",
    "    .format('csv')\\\n",
    "    .options(header='True', sep=';')\\\n",
    "    .csv('data/final_no_control')\n",
    "\n",
    "partition_num = final.rdd.getNumPartitions()\n",
    "print(f'Кол-во партиций {partition_num}')\n",
    "\n",
    "# Сохранение контроллируемое по кол-ву файлов - ОДИН ФАЙЛ\n",
    "final\\\n",
    "    .coalesce(1)\\\n",
    "    .write\\\n",
    "    .format('csv')\\\n",
    "    .options(header='True', sep=';')\\\n",
    "    .csv('data/final_one_file') \n",
    "\n",
    "partition_num = final.coalesce(1).rdd.getNumPartitions()\n",
    "print(f'Кол-во партиций {partition_num}')\n",
    "\n",
    "\n",
    "# Сохранения с партицированием\n",
    "final\\\n",
    "    .write\\\n",
    "    .partitionBy('load_date')\\\n",
    "    .format('csv')\\\n",
    "    .options(header='True', sep=';')\\\n",
    "    .csv('data/final_partitioned')\n",
    "\n",
    "print_df = final.select('load_date').distinct()\n",
    "print(f'Load_date distinct: {print_df.count()}')\n",
    "\n",
    "\n",
    "# Сохранения с партицированием и repartition внутри самой партиции\n",
    "final\\\n",
    "    .repartition(1, 'load_date')\\\n",
    "    .write\\\n",
    "    .partitionBy('load_date')\\\n",
    "    .format('csv')\\\n",
    "    .options(header='True', sep=';')\\\n",
    "    .csv('data/final_partitioned_repart')\n",
    "\n",
    "partition_num = final.repartition(1, 'load_date').rdd.getNumPartitions()\n",
    "print(f'Кол-во партиций {partition_num}')"
   ]
  },
  {
   "cell_type": "markdown",
   "id": "384f71e8-ab17-4104-85d1-fc55f3f9a43f",
   "metadata": {},
   "source": [
    "### Read Transformed"
   ]
  },
  {
   "cell_type": "code",
   "execution_count": 48,
   "id": "70e3d82e-b20d-4e3d-8ad9-e752662da308",
   "metadata": {},
   "outputs": [],
   "source": [
    "reader_no_control = spark\\\n",
    "                        .read\\\n",
    "                        .csv('data/final_no_control/', header=True, sep=';')\\\n",
    "                        .where(''' load_date = \"2024-01-01\" ''')\n",
    "\n",
    "reader_final_one_file = spark\\\n",
    "                            .read\\\n",
    "                            .csv('data/final_one_file/', header=True, sep=';')\\\n",
    "                            .where(''' load_date = \"2024-01-01\" ''')\n",
    "\n",
    "reader_partitioned = spark\\\n",
    "                        .read\\\n",
    "                        .csv('data/final_partitioned', header=True, sep=';')\\\n",
    "                        .where(''' load_date = \"2024-01-01\" ''')\n",
    "\n",
    "reader_partitioned_repart = spark\\\n",
    "                                .read\\\n",
    "                                .csv('data/final_partitioned_repart', header=True, sep=';')\\\n",
    "                                .where(''' load_date = \"2024-01-01\" ''')\n",
    "\n",
    "\n",
    "reader_no_control.count() # number of files read: 16 | size of files read: 88.4 MiB | 2.5 s (90 ms, 301 ms, 384 ms)\n",
    "\n",
    "reader_final_one_file.count() # number of files read: 1 | size of files read: 88.4 MiB | 3.2 s (306 ms, 407 ms, 420 ms )\n",
    "\n",
    "reader_partitioned.count() # number of files read: 16 | size of files read: 16.4 MiB | 305 ms (32 ms, 39 ms, 54 ms )\n",
    "\n",
    "reader_partitioned_repart.count() # number of files read: 1 | size of files read: 16.4 MiB | 179 ms (9 ms, 43 ms, 44 ms )"
   ]
  },
  {
   "cell_type": "markdown",
   "id": "022f5468",
   "metadata": {},
   "source": [
    "### JOIN"
   ]
  },
  {
   "cell_type": "code",
   "execution_count": null,
   "id": "a7d9203a",
   "metadata": {},
   "outputs": [],
   "source": [
    "data = [\n",
    "    (14000, \"Северный\"),\n",
    "    (11000, \"Южный\"),\n",
    "    (10000, \"Восточный\"),\n",
    "    (26000, \"Западный\"),\n",
    "    (56000, \"Центральный\")\n",
    "]\n",
    "\n",
    "region_df = spark.createDataFrame(data, schema='region_id long, name string')\n",
    "\n",
    "region_df.show()\n",
    "\n",
    "\n",
    "customs_data = spark\\\n",
    "                .read\\\n",
    "                .csv('data/customs_data.csv', header=True, sep=';')\n",
    "\n",
    "customs_data.show(2)"
   ]
  },
  {
   "cell_type": "code",
   "execution_count": 23,
   "id": "5939bc3f-1bb0-4240-afff-da26e9818381",
   "metadata": {},
   "outputs": [],
   "source": [
    "# Отключим автоматический Broadcast JOIN\n",
    "import time\n",
    "spark.conf.set(\"spark.sql.autoBroadcastJoinThreshold\", -1)"
   ]
  },
  {
   "cell_type": "code",
   "execution_count": 50,
   "id": "42d681ee-cd9b-4caa-8dc3-6b1853f03a02",
   "metadata": {},
   "outputs": [],
   "source": [
    "# Замерим выполнение запроса без broadcast join\n",
    "\n",
    "start_time = time.time()\n",
    "\n",
    "customs_data.join(region_df, customs_data.region==region_df.region_id, \"left\").count()\n",
    "\n",
    "end_time = time.time()\n",
    "\n",
    "print(f\"Elapsed time for join operation: {end_time - start_time:.2f} seconds\")"
   ]
  },
  {
   "cell_type": "code",
   "execution_count": 51,
   "id": "2b661180-bcac-439b-a2bd-df3b1f8573c8",
   "metadata": {},
   "outputs": [],
   "source": [
    "# Замерим выполнение запроса c broadcast join\n",
    "\n",
    "start_time = time.time()\n",
    "\n",
    "customs_data.join(F.broadcast(region_df), customs_data.region == region_df.region_id, \"left\").count()\n",
    "\n",
    "end_time = time.time()\n",
    "\n",
    "print(f\"Elapsed time for broadcast join operation: {end_time - start_time:.2f} seconds\")"
   ]
  },
  {
   "cell_type": "markdown",
   "id": "d1c9bc17",
   "metadata": {},
   "source": [
    "### Cache | Persist"
   ]
  },
  {
   "cell_type": "code",
   "execution_count": 52,
   "id": "2c6344db",
   "metadata": {},
   "outputs": [],
   "source": [
    "customs_data.cache().count()"
   ]
  },
  {
   "cell_type": "code",
   "execution_count": 53,
   "id": "f2be3547",
   "metadata": {},
   "outputs": [],
   "source": [
    "customs_data.unpersist()"
   ]
  },
  {
   "cell_type": "code",
   "execution_count": 54,
   "id": "eedfda2b",
   "metadata": {},
   "outputs": [],
   "source": [
    "from pyspark.storagelevel import StorageLevel\n",
    "\n",
    "customs_data.persist(StorageLevel.DISK_ONLY).count()"
   ]
  },
  {
   "cell_type": "markdown",
   "id": "7e9566a5",
   "metadata": {},
   "source": [
    "### Repartition & Coalesce"
   ]
  },
  {
   "cell_type": "code",
   "execution_count": 56,
   "id": "39c4a394",
   "metadata": {},
   "outputs": [],
   "source": [
    "data = [(1,'one'), (2,'two'), (3,'three'), (4,'four'),\n",
    "        (5,'five'), (6,'six'), (7, 'seven'), (8, 'eight'),\n",
    "        (9, 'nine')]\n",
    "\n",
    "df = spark.createDataFrame(data, ['id', 'number'])\n",
    "\n",
    "df.show()"
   ]
  },
  {
   "cell_type": "code",
   "execution_count": 57,
   "id": "44e33bb0",
   "metadata": {},
   "outputs": [],
   "source": [
    "# Намеренно перемешаем и поделим на 8 разделов\n",
    "mix = df.repartition(8)\n",
    "mix.rdd.glom().collect()"
   ]
  },
  {
   "cell_type": "code",
   "execution_count": 58,
   "id": "978ee041",
   "metadata": {},
   "outputs": [],
   "source": [
    "mix.repartition(3).rdd.glom().collect()"
   ]
  },
  {
   "cell_type": "code",
   "execution_count": 59,
   "id": "1eb8bba2",
   "metadata": {},
   "outputs": [],
   "source": [
    "mix.coalesce(3).rdd.glom().collect()"
   ]
  },
  {
   "cell_type": "code",
   "execution_count": 60,
   "id": "255abe6f",
   "metadata": {},
   "outputs": [],
   "source": [
    "mix.toPandas().head()"
   ]
  },
  {
   "cell_type": "code",
   "execution_count": null,
   "id": "e010c0e6",
   "metadata": {},
   "outputs": [],
   "source": [
    "# OUT OF MEMORY\n",
    "\n",
    "d = spark.read.csv('data/customs_data.csv', header=True, sep='\\t')\n",
    "d.collect()"
   ]
  },
  {
   "cell_type": "code",
   "execution_count": 34,
   "id": "5bb1f01e-5698-432a-b725-78ef3c063e24",
   "metadata": {},
   "outputs": [],
   "source": [
    "spark.stop()"
   ]
  }
 ],
 "metadata": {
  "kernelspec": {
   "display_name": "Python 3 (ipykernel)",
   "language": "python",
   "name": "python3"
  },
  "language_info": {
   "codemirror_mode": {
    "name": "ipython",
    "version": 3
   },
   "file_extension": ".py",
   "mimetype": "text/x-python",
   "name": "python",
   "nbconvert_exporter": "python",
   "pygments_lexer": "ipython3",
   "version": "3.10.9"
  }
 },
 "nbformat": 4,
 "nbformat_minor": 5
}
